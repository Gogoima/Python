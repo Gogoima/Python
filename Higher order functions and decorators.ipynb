{
 "cells": [
  {
   "cell_type": "markdown",
   "metadata": {},
   "source": [
    "### Function as arguments"
   ]
  },
  {
   "cell_type": "markdown",
   "metadata": {},
   "source": [
    "https://www.hackerearth.com/practice/python/functional-programming/higher-order-functions-and-decorators/tutorial/"
   ]
  },
  {
   "cell_type": "code",
   "execution_count": 2,
   "metadata": {
    "collapsed": false
   },
   "outputs": [
    {
     "name": "stdout",
     "output_type": "stream",
     "text": [
      "6\n"
     ]
    }
   ],
   "source": [
    "def summation(nums):  #normal function\n",
    "    return sum(nums)\n",
    "\n",
    "def main(f, *args):  #function as argument\n",
    "    result = f(*args)\n",
    "    print(result)\n",
    "\n",
    "if __name__ == \"__main__\":\n",
    "    main(summation, [1,2,3])"
   ]
  },
  {
   "cell_type": "markdown",
   "metadata": {},
   "source": [
    "### Having a function as return value"
   ]
  },
  {
   "cell_type": "code",
   "execution_count": 6,
   "metadata": {
    "collapsed": false
   },
   "outputs": [
    {
     "name": "stdout",
     "output_type": "stream",
     "text": [
      "6\n",
      "3\n",
      "Please provide correct length of arguments to add\n"
     ]
    }
   ],
   "source": [
    "def add_two_num(x, y):\n",
    "    return x + y\n",
    "\n",
    "def add_three_num(x, y, z):\n",
    "    return x + y + z \n",
    "\n",
    "def get_appropiate_func(num_len): #function which returns function depending on the logic\n",
    "    \n",
    "    if num_len > 3:\n",
    "        print(\"Please provide correct length of arguments to add\")\n",
    "    elif num_len == 3:\n",
    "        return add_three_num\n",
    "    else:\n",
    "        return add_two_num\n",
    "\n",
    "if __name__ == \"__main__\":\n",
    "    \n",
    "    args = [1, 2, 3]\n",
    "    num_len = len(args)\n",
    "    res_func = get_appropiate_func(num_len)\n",
    "    print(res_func(*args))\n",
    "    \n",
    "    args = [1, 2]\n",
    "    num_len = len(args)\n",
    "    res_func = get_appropiate_func(num_len)\n",
    "    print(res_func(*args))\n",
    "    \n",
    "    args = [1, 2, 3, 4]\n",
    "    num_len = len(args)\n",
    "    res_func = get_appropiate_func(num_len)"
   ]
  },
  {
   "cell_type": "markdown",
   "metadata": {},
   "source": [
    "### Closures"
   ]
  },
  {
   "cell_type": "markdown",
   "metadata": {},
   "source": [
    "    A closure is a way of keeping a variable alive even when the function has returned. In python, this is done by nesting a function inside the encapsulating function and then returning the  underlying function"
   ]
  },
  {
   "cell_type": "code",
   "execution_count": 8,
   "metadata": {
    "collapsed": false
   },
   "outputs": [
    {
     "name": "stdout",
     "output_type": "stream",
     "text": [
      "6\n",
      "7\n"
     ]
    }
   ],
   "source": [
    "def add_5():\n",
    "    \n",
    "    five = 5\n",
    "    \n",
    "    def add(arg): # nesting functions\n",
    "        \n",
    "        return arg + five \n",
    "    return add\n",
    "\n",
    "if __name__ == \"__main__\":\n",
    "    closure = add_5()\n",
    "    print(closure(1))\n",
    "    print(closure(2))\n",
    "        "
   ]
  },
  {
   "cell_type": "markdown",
   "metadata": {},
   "source": [
    "### Decorators"
   ]
  },
  {
   "cell_type": "markdown",
   "metadata": {},
   "source": [
    "Python decorators are convenient ways to make changes to the functionality of code without making changes to the codes. A decorator is written as a function closure and implemented by giving the '@' operator on top of the function."
   ]
  },
  {
   "cell_type": "markdown",
   "metadata": {},
   "source": [
    "##### Skeleton"
   ]
  },
  {
   "cell_type": "code",
   "execution_count": 10,
   "metadata": {
    "collapsed": false
   },
   "outputs": [],
   "source": [
    "def my_decorator(f):\n",
    "    # write your code here or your wrapping function\n",
    "    # return the wrapping function\n",
    "    pass\n",
    "\n",
    "@my_decorator\n",
    "\n",
    "def my_code(args):\n",
    "    # opriginal functiolatiy\n",
    "    pass\n",
    "\n",
    "#my_code(args)"
   ]
  },
  {
   "cell_type": "code",
   "execution_count": null,
   "metadata": {
    "collapsed": true
   },
   "outputs": [],
   "source": []
  }
 ],
 "metadata": {
  "kernelspec": {
   "display_name": "Python 3",
   "language": "python",
   "name": "python3"
  },
  "language_info": {
   "codemirror_mode": {
    "name": "ipython",
    "version": 3
   },
   "file_extension": ".py",
   "mimetype": "text/x-python",
   "name": "python",
   "nbconvert_exporter": "python",
   "pygments_lexer": "ipython3",
   "version": "3.6.0"
  }
 },
 "nbformat": 4,
 "nbformat_minor": 2
}
