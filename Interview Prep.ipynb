{
 "cells": [
  {
   "cell_type": "code",
   "execution_count": 1,
   "id": "d303879a",
   "metadata": {},
   "outputs": [],
   "source": [
    "import pandas as pd\n",
    "import numpy as np"
   ]
  },
  {
   "cell_type": "code",
   "execution_count": 2,
   "id": "755c4627",
   "metadata": {},
   "outputs": [],
   "source": [
    "data = pd.read_csv(\"Monthly_new.csv\")"
   ]
  },
  {
   "cell_type": "code",
   "execution_count": 3,
   "id": "1564e3eb",
   "metadata": {},
   "outputs": [],
   "source": [
    "df = data[:7]"
   ]
  },
  {
   "cell_type": "code",
   "execution_count": 4,
   "id": "afe1ca88",
   "metadata": {},
   "outputs": [
    {
     "data": {
      "text/plain": [
       "Index(['CustomerID', 'Churn', 'BaseCharges', 'TotalCharges', 'DOE',\n",
       "       'ElectronicBilling', 'ContractType', 'PaymentMethod', 'Retired',\n",
       "       'HasPartner', 'HasDependents', 'Education', 'Gender',\n",
       "       'DeviceProtection', 'HasPhoneService', 'InternetServiceCategory',\n",
       "       'MultipleLines', 'OnlineBackup', 'OnlineSecurity', 'StreamingMovies',\n",
       "       'StreamingTelevision', 'TechnicalSupport', 'Monthlycharges'],\n",
       "      dtype='object')"
      ]
     },
     "execution_count": 4,
     "metadata": {},
     "output_type": "execute_result"
    }
   ],
   "source": [
    "df.columns"
   ]
  },
  {
   "cell_type": "code",
   "execution_count": 5,
   "id": "58bf5ef2",
   "metadata": {},
   "outputs": [],
   "source": [
    "df = df[[ 'Churn', 'BaseCharges', 'TotalCharges', 'DOE',\n",
    "       'ElectronicBilling', 'PaymentMethod', 'Retired',\n",
    "       'HasPartner', 'HasDependents', 'Education', 'Gender']]"
   ]
  },
  {
   "cell_type": "code",
   "execution_count": 6,
   "id": "75da9c9f",
   "metadata": {},
   "outputs": [
    {
     "data": {
      "text/html": [
       "<div>\n",
       "<style scoped>\n",
       "    .dataframe tbody tr th:only-of-type {\n",
       "        vertical-align: middle;\n",
       "    }\n",
       "\n",
       "    .dataframe tbody tr th {\n",
       "        vertical-align: top;\n",
       "    }\n",
       "\n",
       "    .dataframe thead th {\n",
       "        text-align: right;\n",
       "    }\n",
       "</style>\n",
       "<table border=\"1\" class=\"dataframe\">\n",
       "  <thead>\n",
       "    <tr style=\"text-align: right;\">\n",
       "      <th></th>\n",
       "      <th>Churn</th>\n",
       "      <th>BaseCharges</th>\n",
       "      <th>TotalCharges</th>\n",
       "      <th>DOE</th>\n",
       "      <th>ElectronicBilling</th>\n",
       "      <th>PaymentMethod</th>\n",
       "      <th>Retired</th>\n",
       "      <th>HasPartner</th>\n",
       "      <th>HasDependents</th>\n",
       "      <th>Education</th>\n",
       "      <th>Gender</th>\n",
       "    </tr>\n",
       "  </thead>\n",
       "  <tbody>\n",
       "    <tr>\n",
       "      <th>0</th>\n",
       "      <td>Yes</td>\n",
       "      <td>372.00</td>\n",
       "      <td>1498.50</td>\n",
       "      <td>7-Sep-11</td>\n",
       "      <td>Yes</td>\n",
       "      <td>Electronic check</td>\n",
       "      <td>0</td>\n",
       "      <td>2</td>\n",
       "      <td>2</td>\n",
       "      <td>Masters</td>\n",
       "      <td>Male</td>\n",
       "    </tr>\n",
       "    <tr>\n",
       "      <th>1</th>\n",
       "      <td>No</td>\n",
       "      <td>100.50</td>\n",
       "      <td>5438.50</td>\n",
       "      <td>1-May-07</td>\n",
       "      <td>Yes</td>\n",
       "      <td>Bank transfer (automatic)</td>\n",
       "      <td>0</td>\n",
       "      <td>1</td>\n",
       "      <td>1</td>\n",
       "      <td>Graduation</td>\n",
       "      <td>Female</td>\n",
       "    </tr>\n",
       "    <tr>\n",
       "      <th>2</th>\n",
       "      <td>No</td>\n",
       "      <td>399.25</td>\n",
       "      <td>10005.00</td>\n",
       "      <td>15-Jan-10</td>\n",
       "      <td>Yes</td>\n",
       "      <td>Credit card (automatic)</td>\n",
       "      <td>0</td>\n",
       "      <td>2</td>\n",
       "      <td>2</td>\n",
       "      <td>Graduation</td>\n",
       "      <td>Male</td>\n",
       "    </tr>\n",
       "    <tr>\n",
       "      <th>3</th>\n",
       "      <td>No</td>\n",
       "      <td>245.00</td>\n",
       "      <td>245.00</td>\n",
       "      <td>6-Dec-11</td>\n",
       "      <td>No</td>\n",
       "      <td>Credit card (automatic)</td>\n",
       "      <td>0</td>\n",
       "      <td>2</td>\n",
       "      <td>2</td>\n",
       "      <td>Masters</td>\n",
       "      <td>Male</td>\n",
       "    </tr>\n",
       "    <tr>\n",
       "      <th>4</th>\n",
       "      <td>No</td>\n",
       "      <td>320.25</td>\n",
       "      <td>3669.75</td>\n",
       "      <td>9-Feb-11</td>\n",
       "      <td>No</td>\n",
       "      <td>Bank transfer (automatic)</td>\n",
       "      <td>0</td>\n",
       "      <td>2</td>\n",
       "      <td>2</td>\n",
       "      <td>ProfessionalQalification</td>\n",
       "      <td>Female</td>\n",
       "    </tr>\n",
       "    <tr>\n",
       "      <th>5</th>\n",
       "      <td>No</td>\n",
       "      <td>498.25</td>\n",
       "      <td>23151.00</td>\n",
       "      <td>26-Mar-08</td>\n",
       "      <td>No</td>\n",
       "      <td>Mailed check</td>\n",
       "      <td>0</td>\n",
       "      <td>1</td>\n",
       "      <td>1</td>\n",
       "      <td>Graduation</td>\n",
       "      <td>Female</td>\n",
       "    </tr>\n",
       "    <tr>\n",
       "      <th>6</th>\n",
       "      <td>Yes</td>\n",
       "      <td>510.00</td>\n",
       "      <td>5726.75</td>\n",
       "      <td>9-Feb-11</td>\n",
       "      <td>Yes</td>\n",
       "      <td>Electronic check</td>\n",
       "      <td>0</td>\n",
       "      <td>1</td>\n",
       "      <td>2</td>\n",
       "      <td>Highschool or below</td>\n",
       "      <td>Female</td>\n",
       "    </tr>\n",
       "  </tbody>\n",
       "</table>\n",
       "</div>"
      ],
      "text/plain": [
       "  Churn  BaseCharges  TotalCharges        DOE ElectronicBilling  \\\n",
       "0   Yes       372.00       1498.50   7-Sep-11               Yes   \n",
       "1    No       100.50       5438.50   1-May-07               Yes   \n",
       "2    No       399.25      10005.00  15-Jan-10               Yes   \n",
       "3    No       245.00        245.00   6-Dec-11                No   \n",
       "4    No       320.25       3669.75   9-Feb-11                No   \n",
       "5    No       498.25      23151.00  26-Mar-08                No   \n",
       "6   Yes       510.00       5726.75   9-Feb-11               Yes   \n",
       "\n",
       "               PaymentMethod  Retired  HasPartner  HasDependents  \\\n",
       "0           Electronic check        0           2              2   \n",
       "1  Bank transfer (automatic)        0           1              1   \n",
       "2    Credit card (automatic)        0           2              2   \n",
       "3    Credit card (automatic)        0           2              2   \n",
       "4  Bank transfer (automatic)        0           2              2   \n",
       "5               Mailed check        0           1              1   \n",
       "6           Electronic check        0           1              2   \n",
       "\n",
       "                  Education  Gender  \n",
       "0                   Masters    Male  \n",
       "1                Graduation  Female  \n",
       "2                Graduation    Male  \n",
       "3                   Masters    Male  \n",
       "4  ProfessionalQalification  Female  \n",
       "5                Graduation  Female  \n",
       "6       Highschool or below  Female  "
      ]
     },
     "execution_count": 6,
     "metadata": {},
     "output_type": "execute_result"
    }
   ],
   "source": [
    "df"
   ]
  },
  {
   "cell_type": "code",
   "execution_count": 7,
   "id": "a4a70250",
   "metadata": {},
   "outputs": [
    {
     "data": {
      "text/html": [
       "<div>\n",
       "<style scoped>\n",
       "    .dataframe tbody tr th:only-of-type {\n",
       "        vertical-align: middle;\n",
       "    }\n",
       "\n",
       "    .dataframe tbody tr th {\n",
       "        vertical-align: top;\n",
       "    }\n",
       "\n",
       "    .dataframe thead th {\n",
       "        text-align: right;\n",
       "    }\n",
       "</style>\n",
       "<table border=\"1\" class=\"dataframe\">\n",
       "  <thead>\n",
       "    <tr style=\"text-align: right;\">\n",
       "      <th></th>\n",
       "      <th>0</th>\n",
       "      <th>1</th>\n",
       "      <th>2</th>\n",
       "      <th>3</th>\n",
       "      <th>4</th>\n",
       "      <th>5</th>\n",
       "      <th>6</th>\n",
       "    </tr>\n",
       "  </thead>\n",
       "  <tbody>\n",
       "    <tr>\n",
       "      <th>Churn</th>\n",
       "      <td>Yes</td>\n",
       "      <td>No</td>\n",
       "      <td>No</td>\n",
       "      <td>No</td>\n",
       "      <td>No</td>\n",
       "      <td>No</td>\n",
       "      <td>Yes</td>\n",
       "    </tr>\n",
       "    <tr>\n",
       "      <th>BaseCharges</th>\n",
       "      <td>372.0</td>\n",
       "      <td>100.5</td>\n",
       "      <td>399.25</td>\n",
       "      <td>245.0</td>\n",
       "      <td>320.25</td>\n",
       "      <td>498.25</td>\n",
       "      <td>510.0</td>\n",
       "    </tr>\n",
       "    <tr>\n",
       "      <th>TotalCharges</th>\n",
       "      <td>1498.5</td>\n",
       "      <td>5438.5</td>\n",
       "      <td>10005.0</td>\n",
       "      <td>245.0</td>\n",
       "      <td>3669.75</td>\n",
       "      <td>23151.0</td>\n",
       "      <td>5726.75</td>\n",
       "    </tr>\n",
       "    <tr>\n",
       "      <th>DOE</th>\n",
       "      <td>7-Sep-11</td>\n",
       "      <td>1-May-07</td>\n",
       "      <td>15-Jan-10</td>\n",
       "      <td>6-Dec-11</td>\n",
       "      <td>9-Feb-11</td>\n",
       "      <td>26-Mar-08</td>\n",
       "      <td>9-Feb-11</td>\n",
       "    </tr>\n",
       "    <tr>\n",
       "      <th>ElectronicBilling</th>\n",
       "      <td>Yes</td>\n",
       "      <td>Yes</td>\n",
       "      <td>Yes</td>\n",
       "      <td>No</td>\n",
       "      <td>No</td>\n",
       "      <td>No</td>\n",
       "      <td>Yes</td>\n",
       "    </tr>\n",
       "    <tr>\n",
       "      <th>PaymentMethod</th>\n",
       "      <td>Electronic check</td>\n",
       "      <td>Bank transfer (automatic)</td>\n",
       "      <td>Credit card (automatic)</td>\n",
       "      <td>Credit card (automatic)</td>\n",
       "      <td>Bank transfer (automatic)</td>\n",
       "      <td>Mailed check</td>\n",
       "      <td>Electronic check</td>\n",
       "    </tr>\n",
       "    <tr>\n",
       "      <th>Retired</th>\n",
       "      <td>0</td>\n",
       "      <td>0</td>\n",
       "      <td>0</td>\n",
       "      <td>0</td>\n",
       "      <td>0</td>\n",
       "      <td>0</td>\n",
       "      <td>0</td>\n",
       "    </tr>\n",
       "    <tr>\n",
       "      <th>HasPartner</th>\n",
       "      <td>2</td>\n",
       "      <td>1</td>\n",
       "      <td>2</td>\n",
       "      <td>2</td>\n",
       "      <td>2</td>\n",
       "      <td>1</td>\n",
       "      <td>1</td>\n",
       "    </tr>\n",
       "    <tr>\n",
       "      <th>HasDependents</th>\n",
       "      <td>2</td>\n",
       "      <td>1</td>\n",
       "      <td>2</td>\n",
       "      <td>2</td>\n",
       "      <td>2</td>\n",
       "      <td>1</td>\n",
       "      <td>2</td>\n",
       "    </tr>\n",
       "    <tr>\n",
       "      <th>Education</th>\n",
       "      <td>Masters</td>\n",
       "      <td>Graduation</td>\n",
       "      <td>Graduation</td>\n",
       "      <td>Masters</td>\n",
       "      <td>ProfessionalQalification</td>\n",
       "      <td>Graduation</td>\n",
       "      <td>Highschool or below</td>\n",
       "    </tr>\n",
       "    <tr>\n",
       "      <th>Gender</th>\n",
       "      <td>Male</td>\n",
       "      <td>Female</td>\n",
       "      <td>Male</td>\n",
       "      <td>Male</td>\n",
       "      <td>Female</td>\n",
       "      <td>Female</td>\n",
       "      <td>Female</td>\n",
       "    </tr>\n",
       "  </tbody>\n",
       "</table>\n",
       "</div>"
      ],
      "text/plain": [
       "                                  0                          1  \\\n",
       "Churn                           Yes                         No   \n",
       "BaseCharges                   372.0                      100.5   \n",
       "TotalCharges                 1498.5                     5438.5   \n",
       "DOE                        7-Sep-11                   1-May-07   \n",
       "ElectronicBilling               Yes                        Yes   \n",
       "PaymentMethod      Electronic check  Bank transfer (automatic)   \n",
       "Retired                           0                          0   \n",
       "HasPartner                        2                          1   \n",
       "HasDependents                     2                          1   \n",
       "Education                   Masters                 Graduation   \n",
       "Gender                         Male                     Female   \n",
       "\n",
       "                                         2                        3  \\\n",
       "Churn                                   No                       No   \n",
       "BaseCharges                         399.25                    245.0   \n",
       "TotalCharges                       10005.0                    245.0   \n",
       "DOE                              15-Jan-10                 6-Dec-11   \n",
       "ElectronicBilling                      Yes                       No   \n",
       "PaymentMethod      Credit card (automatic)  Credit card (automatic)   \n",
       "Retired                                  0                        0   \n",
       "HasPartner                               2                        2   \n",
       "HasDependents                            2                        2   \n",
       "Education                       Graduation                  Masters   \n",
       "Gender                                Male                     Male   \n",
       "\n",
       "                                           4             5  \\\n",
       "Churn                                     No            No   \n",
       "BaseCharges                           320.25        498.25   \n",
       "TotalCharges                         3669.75       23151.0   \n",
       "DOE                                 9-Feb-11     26-Mar-08   \n",
       "ElectronicBilling                         No            No   \n",
       "PaymentMethod      Bank transfer (automatic)  Mailed check   \n",
       "Retired                                    0             0   \n",
       "HasPartner                                 2             1   \n",
       "HasDependents                              2             1   \n",
       "Education           ProfessionalQalification    Graduation   \n",
       "Gender                                Female        Female   \n",
       "\n",
       "                                     6  \n",
       "Churn                              Yes  \n",
       "BaseCharges                      510.0  \n",
       "TotalCharges                   5726.75  \n",
       "DOE                           9-Feb-11  \n",
       "ElectronicBilling                  Yes  \n",
       "PaymentMethod         Electronic check  \n",
       "Retired                              0  \n",
       "HasPartner                           1  \n",
       "HasDependents                        2  \n",
       "Education          Highschool or below  \n",
       "Gender                          Female  "
      ]
     },
     "execution_count": 7,
     "metadata": {},
     "output_type": "execute_result"
    }
   ],
   "source": [
    "df.T"
   ]
  },
  {
   "cell_type": "code",
   "execution_count": 8,
   "id": "17756846",
   "metadata": {},
   "outputs": [
    {
     "data": {
      "text/html": [
       "<div>\n",
       "<style scoped>\n",
       "    .dataframe tbody tr th:only-of-type {\n",
       "        vertical-align: middle;\n",
       "    }\n",
       "\n",
       "    .dataframe tbody tr th {\n",
       "        vertical-align: top;\n",
       "    }\n",
       "\n",
       "    .dataframe thead th {\n",
       "        text-align: right;\n",
       "    }\n",
       "</style>\n",
       "<table border=\"1\" class=\"dataframe\">\n",
       "  <thead>\n",
       "    <tr style=\"text-align: right;\">\n",
       "      <th></th>\n",
       "      <th>Churn</th>\n",
       "      <th>BaseCharges</th>\n",
       "      <th>TotalCharges</th>\n",
       "      <th>Gender</th>\n",
       "    </tr>\n",
       "  </thead>\n",
       "  <tbody>\n",
       "    <tr>\n",
       "      <th>0</th>\n",
       "      <td>Yes</td>\n",
       "      <td>372.00</td>\n",
       "      <td>1498.50</td>\n",
       "      <td>Male</td>\n",
       "    </tr>\n",
       "    <tr>\n",
       "      <th>1</th>\n",
       "      <td>No</td>\n",
       "      <td>100.50</td>\n",
       "      <td>5438.50</td>\n",
       "      <td>Female</td>\n",
       "    </tr>\n",
       "    <tr>\n",
       "      <th>2</th>\n",
       "      <td>No</td>\n",
       "      <td>399.25</td>\n",
       "      <td>10005.00</td>\n",
       "      <td>Male</td>\n",
       "    </tr>\n",
       "    <tr>\n",
       "      <th>3</th>\n",
       "      <td>No</td>\n",
       "      <td>245.00</td>\n",
       "      <td>245.00</td>\n",
       "      <td>Male</td>\n",
       "    </tr>\n",
       "    <tr>\n",
       "      <th>4</th>\n",
       "      <td>No</td>\n",
       "      <td>320.25</td>\n",
       "      <td>3669.75</td>\n",
       "      <td>Female</td>\n",
       "    </tr>\n",
       "    <tr>\n",
       "      <th>5</th>\n",
       "      <td>No</td>\n",
       "      <td>498.25</td>\n",
       "      <td>23151.00</td>\n",
       "      <td>Female</td>\n",
       "    </tr>\n",
       "    <tr>\n",
       "      <th>6</th>\n",
       "      <td>Yes</td>\n",
       "      <td>510.00</td>\n",
       "      <td>5726.75</td>\n",
       "      <td>Female</td>\n",
       "    </tr>\n",
       "  </tbody>\n",
       "</table>\n",
       "</div>"
      ],
      "text/plain": [
       "  Churn  BaseCharges  TotalCharges  Gender\n",
       "0   Yes       372.00       1498.50    Male\n",
       "1    No       100.50       5438.50  Female\n",
       "2    No       399.25      10005.00    Male\n",
       "3    No       245.00        245.00    Male\n",
       "4    No       320.25       3669.75  Female\n",
       "5    No       498.25      23151.00  Female\n",
       "6   Yes       510.00       5726.75  Female"
      ]
     },
     "execution_count": 8,
     "metadata": {},
     "output_type": "execute_result"
    }
   ],
   "source": [
    "df1 = df[[ 'Churn', 'BaseCharges', 'TotalCharges','Gender']]\n",
    "df1"
   ]
  },
  {
   "cell_type": "code",
   "execution_count": 9,
   "id": "5f7375fa",
   "metadata": {},
   "outputs": [
    {
     "data": {
      "text/html": [
       "<div>\n",
       "<style scoped>\n",
       "    .dataframe tbody tr th:only-of-type {\n",
       "        vertical-align: middle;\n",
       "    }\n",
       "\n",
       "    .dataframe tbody tr th {\n",
       "        vertical-align: top;\n",
       "    }\n",
       "\n",
       "    .dataframe thead tr th {\n",
       "        text-align: left;\n",
       "    }\n",
       "\n",
       "    .dataframe thead tr:last-of-type th {\n",
       "        text-align: right;\n",
       "    }\n",
       "</style>\n",
       "<table border=\"1\" class=\"dataframe\">\n",
       "  <thead>\n",
       "    <tr>\n",
       "      <th></th>\n",
       "      <th colspan=\"2\" halign=\"left\">Churn</th>\n",
       "      <th colspan=\"2\" halign=\"left\">BaseCharges</th>\n",
       "      <th colspan=\"2\" halign=\"left\">TotalCharges</th>\n",
       "    </tr>\n",
       "    <tr>\n",
       "      <th></th>\n",
       "      <th>max</th>\n",
       "      <th>min</th>\n",
       "      <th>max</th>\n",
       "      <th>min</th>\n",
       "      <th>max</th>\n",
       "      <th>min</th>\n",
       "    </tr>\n",
       "    <tr>\n",
       "      <th>Gender</th>\n",
       "      <th></th>\n",
       "      <th></th>\n",
       "      <th></th>\n",
       "      <th></th>\n",
       "      <th></th>\n",
       "      <th></th>\n",
       "    </tr>\n",
       "  </thead>\n",
       "  <tbody>\n",
       "    <tr>\n",
       "      <th>Female</th>\n",
       "      <td>Yes</td>\n",
       "      <td>No</td>\n",
       "      <td>510.00</td>\n",
       "      <td>100.5</td>\n",
       "      <td>23151.0</td>\n",
       "      <td>3669.75</td>\n",
       "    </tr>\n",
       "    <tr>\n",
       "      <th>Male</th>\n",
       "      <td>Yes</td>\n",
       "      <td>No</td>\n",
       "      <td>399.25</td>\n",
       "      <td>245.0</td>\n",
       "      <td>10005.0</td>\n",
       "      <td>245.00</td>\n",
       "    </tr>\n",
       "  </tbody>\n",
       "</table>\n",
       "</div>"
      ],
      "text/plain": [
       "       Churn     BaseCharges        TotalCharges         \n",
       "         max min         max    min          max      min\n",
       "Gender                                                   \n",
       "Female   Yes  No      510.00  100.5      23151.0  3669.75\n",
       "Male     Yes  No      399.25  245.0      10005.0   245.00"
      ]
     },
     "execution_count": 9,
     "metadata": {},
     "output_type": "execute_result"
    }
   ],
   "source": [
    "df1.groupby(\"Gender\").agg(['max', 'min'])"
   ]
  },
  {
   "cell_type": "code",
   "execution_count": 10,
   "id": "70b188f4",
   "metadata": {},
   "outputs": [],
   "source": [
    "x = pd.Series(['ID12','ID1','ID6','ID12','ID1','ID6','ID12','ID1','ID16'])\n",
    "y =pd.Series(['2012-06','2012-06','2012-06','2012-07','2012-07','2012-07','2012-08','2012-08','2012-08'])\n",
    "z = pd.Series([566,10239,524,2360,13858,2352,3950,14738,4104])"
   ]
  },
  {
   "cell_type": "code",
   "execution_count": 11,
   "id": "e83f9f86",
   "metadata": {},
   "outputs": [],
   "source": [
    "frame = {'X': x, \"Y\" : y, 'Z': z}\n",
    "dff = pd.DataFrame(frame)"
   ]
  },
  {
   "cell_type": "code",
   "execution_count": 12,
   "id": "f82f36d5",
   "metadata": {},
   "outputs": [
    {
     "data": {
      "text/html": [
       "<div>\n",
       "<style scoped>\n",
       "    .dataframe tbody tr th:only-of-type {\n",
       "        vertical-align: middle;\n",
       "    }\n",
       "\n",
       "    .dataframe tbody tr th {\n",
       "        vertical-align: top;\n",
       "    }\n",
       "\n",
       "    .dataframe thead th {\n",
       "        text-align: right;\n",
       "    }\n",
       "</style>\n",
       "<table border=\"1\" class=\"dataframe\">\n",
       "  <thead>\n",
       "    <tr style=\"text-align: right;\">\n",
       "      <th></th>\n",
       "      <th>X</th>\n",
       "      <th>Y</th>\n",
       "      <th>Z</th>\n",
       "    </tr>\n",
       "  </thead>\n",
       "  <tbody>\n",
       "    <tr>\n",
       "      <th>0</th>\n",
       "      <td>ID12</td>\n",
       "      <td>2012-06</td>\n",
       "      <td>566</td>\n",
       "    </tr>\n",
       "    <tr>\n",
       "      <th>1</th>\n",
       "      <td>ID1</td>\n",
       "      <td>2012-06</td>\n",
       "      <td>10239</td>\n",
       "    </tr>\n",
       "    <tr>\n",
       "      <th>2</th>\n",
       "      <td>ID6</td>\n",
       "      <td>2012-06</td>\n",
       "      <td>524</td>\n",
       "    </tr>\n",
       "    <tr>\n",
       "      <th>3</th>\n",
       "      <td>ID12</td>\n",
       "      <td>2012-07</td>\n",
       "      <td>2360</td>\n",
       "    </tr>\n",
       "    <tr>\n",
       "      <th>4</th>\n",
       "      <td>ID1</td>\n",
       "      <td>2012-07</td>\n",
       "      <td>13858</td>\n",
       "    </tr>\n",
       "    <tr>\n",
       "      <th>5</th>\n",
       "      <td>ID6</td>\n",
       "      <td>2012-07</td>\n",
       "      <td>2352</td>\n",
       "    </tr>\n",
       "    <tr>\n",
       "      <th>6</th>\n",
       "      <td>ID12</td>\n",
       "      <td>2012-08</td>\n",
       "      <td>3950</td>\n",
       "    </tr>\n",
       "    <tr>\n",
       "      <th>7</th>\n",
       "      <td>ID1</td>\n",
       "      <td>2012-08</td>\n",
       "      <td>14738</td>\n",
       "    </tr>\n",
       "    <tr>\n",
       "      <th>8</th>\n",
       "      <td>ID16</td>\n",
       "      <td>2012-08</td>\n",
       "      <td>4104</td>\n",
       "    </tr>\n",
       "  </tbody>\n",
       "</table>\n",
       "</div>"
      ],
      "text/plain": [
       "      X        Y      Z\n",
       "0  ID12  2012-06    566\n",
       "1   ID1  2012-06  10239\n",
       "2   ID6  2012-06    524\n",
       "3  ID12  2012-07   2360\n",
       "4   ID1  2012-07  13858\n",
       "5   ID6  2012-07   2352\n",
       "6  ID12  2012-08   3950\n",
       "7   ID1  2012-08  14738\n",
       "8  ID16  2012-08   4104"
      ]
     },
     "execution_count": 12,
     "metadata": {},
     "output_type": "execute_result"
    }
   ],
   "source": [
    "dff"
   ]
  },
  {
   "cell_type": "code",
   "execution_count": 13,
   "id": "bf891fb5",
   "metadata": {},
   "outputs": [
    {
     "data": {
      "text/html": [
       "<div>\n",
       "<style scoped>\n",
       "    .dataframe tbody tr th:only-of-type {\n",
       "        vertical-align: middle;\n",
       "    }\n",
       "\n",
       "    .dataframe tbody tr th {\n",
       "        vertical-align: top;\n",
       "    }\n",
       "\n",
       "    .dataframe thead th {\n",
       "        text-align: right;\n",
       "    }\n",
       "</style>\n",
       "<table border=\"1\" class=\"dataframe\">\n",
       "  <thead>\n",
       "    <tr style=\"text-align: right;\">\n",
       "      <th>Y</th>\n",
       "      <th>2012-06</th>\n",
       "      <th>2012-07</th>\n",
       "      <th>2012-08</th>\n",
       "    </tr>\n",
       "    <tr>\n",
       "      <th>X</th>\n",
       "      <th></th>\n",
       "      <th></th>\n",
       "      <th></th>\n",
       "    </tr>\n",
       "  </thead>\n",
       "  <tbody>\n",
       "    <tr>\n",
       "      <th>ID1</th>\n",
       "      <td>10239.0</td>\n",
       "      <td>13858.0</td>\n",
       "      <td>14738.0</td>\n",
       "    </tr>\n",
       "    <tr>\n",
       "      <th>ID12</th>\n",
       "      <td>566.0</td>\n",
       "      <td>2360.0</td>\n",
       "      <td>3950.0</td>\n",
       "    </tr>\n",
       "    <tr>\n",
       "      <th>ID16</th>\n",
       "      <td>NaN</td>\n",
       "      <td>NaN</td>\n",
       "      <td>4104.0</td>\n",
       "    </tr>\n",
       "    <tr>\n",
       "      <th>ID6</th>\n",
       "      <td>524.0</td>\n",
       "      <td>2352.0</td>\n",
       "      <td>NaN</td>\n",
       "    </tr>\n",
       "  </tbody>\n",
       "</table>\n",
       "</div>"
      ],
      "text/plain": [
       "Y     2012-06  2012-07  2012-08\n",
       "X                              \n",
       "ID1   10239.0  13858.0  14738.0\n",
       "ID12    566.0   2360.0   3950.0\n",
       "ID16      NaN      NaN   4104.0\n",
       "ID6     524.0   2352.0      NaN"
      ]
     },
     "execution_count": 13,
     "metadata": {},
     "output_type": "execute_result"
    }
   ],
   "source": [
    "r= dff.pivot(index ='X', columns = 'Y',values ='Z')\n",
    "r"
   ]
  },
  {
   "cell_type": "code",
   "execution_count": 14,
   "id": "482dfc86",
   "metadata": {},
   "outputs": [],
   "source": [
    "#r.melt()"
   ]
  },
  {
   "cell_type": "markdown",
   "id": "fbf37fd0",
   "metadata": {},
   "source": [
    "Indices of n maximum values in a numpy array"
   ]
  },
  {
   "cell_type": "code",
   "execution_count": 15,
   "id": "563d18e3",
   "metadata": {},
   "outputs": [
    {
     "name": "stdout",
     "output_type": "stream",
     "text": [
      "[ 6  7  8  9 11]\n",
      "[4 3 2]\n"
     ]
    }
   ],
   "source": [
    "arr = np.array([6,7,8,9,11])\n",
    "print(arr)\n",
    "print(arr.argsort()[-3:][::-1])"
   ]
  },
  {
   "cell_type": "code",
   "execution_count": 16,
   "id": "733f46d2",
   "metadata": {},
   "outputs": [
    {
     "data": {
      "text/plain": [
       "array([4, 3, 2], dtype=int64)"
      ]
     },
     "execution_count": 16,
     "metadata": {},
     "output_type": "execute_result"
    }
   ],
   "source": [
    "arr.argsort()[-3:][::-1]"
   ]
  },
  {
   "cell_type": "markdown",
   "id": "c82e8470",
   "metadata": {},
   "source": [
    "Getting the items of series A not present in series B"
   ]
  },
  {
   "cell_type": "code",
   "execution_count": 17,
   "id": "bf92f295",
   "metadata": {},
   "outputs": [
    {
     "data": {
      "text/plain": [
       "0    2\n",
       "1    4\n",
       "2    6\n",
       "dtype: int64"
      ]
     },
     "execution_count": 17,
     "metadata": {},
     "output_type": "execute_result"
    }
   ],
   "source": [
    "p1 = pd.Series([2,4,6,8,10])\n",
    "p2 = pd.Series([8,10,12,14,16])\n",
    "p1[~p1.isin(p2)]"
   ]
  },
  {
   "cell_type": "code",
   "execution_count": 18,
   "id": "116ccfa2",
   "metadata": {},
   "outputs": [
    {
     "data": {
      "text/plain": [
       "3     8\n",
       "4    10\n",
       "dtype: int64"
      ]
     },
     "execution_count": 18,
     "metadata": {},
     "output_type": "execute_result"
    }
   ],
   "source": [
    "p1[p1.isin(p2)]"
   ]
  },
  {
   "cell_type": "code",
   "execution_count": 19,
   "id": "c8fa8a03",
   "metadata": {},
   "outputs": [
    {
     "data": {
      "text/plain": [
       "{2, 4, 6}"
      ]
     },
     "execution_count": 19,
     "metadata": {},
     "output_type": "execute_result"
    }
   ],
   "source": [
    "#also we can convert into set and use difference operations\n",
    "set(p1)-set(p2)"
   ]
  },
  {
   "cell_type": "markdown",
   "id": "39a89149",
   "metadata": {},
   "source": [
    "Getting the items not common to both series A and series B"
   ]
  },
  {
   "cell_type": "code",
   "execution_count": 21,
   "id": "33c1438c",
   "metadata": {},
   "outputs": [
    {
     "name": "stdout",
     "output_type": "stream",
     "text": [
      "Using Set {2, 4, 6, 12, 14, 16}\n",
      "\n",
      "From Series:  \n",
      " 0     2\n",
      "1     4\n",
      "2     6\n",
      "5    12\n",
      "6    14\n",
      "7    16\n",
      "dtype: int64\n"
     ]
    }
   ],
   "source": [
    "p_u = pd.Series(np.union1d(p1,p2))\n",
    "p_i = pd.Series(np.intersect1d(p1,p2))\n",
    "print(\"Using Set\", set(p_u)-set(p_i))  # set(p_u).difference(set(p_i))\n",
    "\n",
    "\n",
    "print(\"\\nFrom Series:  \\n\", p_u[~p_u.isin(p_i)])"
   ]
  },
  {
   "cell_type": "markdown",
   "id": "58ebef2c",
   "metadata": {},
   "source": [
    "Converting a series to dataframe"
   ]
  },
  {
   "cell_type": "code",
   "execution_count": 22,
   "id": "3584a0f8",
   "metadata": {},
   "outputs": [
    {
     "data": {
      "text/html": [
       "<div>\n",
       "<style scoped>\n",
       "    .dataframe tbody tr th:only-of-type {\n",
       "        vertical-align: middle;\n",
       "    }\n",
       "\n",
       "    .dataframe tbody tr th {\n",
       "        vertical-align: top;\n",
       "    }\n",
       "\n",
       "    .dataframe thead th {\n",
       "        text-align: right;\n",
       "    }\n",
       "</style>\n",
       "<table border=\"1\" class=\"dataframe\">\n",
       "  <thead>\n",
       "    <tr style=\"text-align: right;\">\n",
       "      <th></th>\n",
       "      <th>vals</th>\n",
       "    </tr>\n",
       "  </thead>\n",
       "  <tbody>\n",
       "    <tr>\n",
       "      <th>0</th>\n",
       "      <td>a</td>\n",
       "    </tr>\n",
       "    <tr>\n",
       "      <th>1</th>\n",
       "      <td>b</td>\n",
       "    </tr>\n",
       "    <tr>\n",
       "      <th>2</th>\n",
       "      <td>c</td>\n",
       "    </tr>\n",
       "  </tbody>\n",
       "</table>\n",
       "</div>"
      ],
      "text/plain": [
       "  vals\n",
       "0    a\n",
       "1    b\n",
       "2    c"
      ]
     },
     "execution_count": 22,
     "metadata": {},
     "output_type": "execute_result"
    }
   ],
   "source": [
    "s = pd.Series([\"a\",\"b\",\"c\"], name = \"vals\")\n",
    "s.to_frame()"
   ]
  },
  {
   "cell_type": "code",
   "execution_count": 23,
   "id": "9cee629e",
   "metadata": {},
   "outputs": [
    {
     "data": {
      "text/html": [
       "<div>\n",
       "<style scoped>\n",
       "    .dataframe tbody tr th:only-of-type {\n",
       "        vertical-align: middle;\n",
       "    }\n",
       "\n",
       "    .dataframe tbody tr th {\n",
       "        vertical-align: top;\n",
       "    }\n",
       "\n",
       "    .dataframe thead th {\n",
       "        text-align: right;\n",
       "    }\n",
       "</style>\n",
       "<table border=\"1\" class=\"dataframe\">\n",
       "  <thead>\n",
       "    <tr style=\"text-align: right;\">\n",
       "      <th></th>\n",
       "      <th>vals</th>\n",
       "    </tr>\n",
       "  </thead>\n",
       "  <tbody>\n",
       "    <tr>\n",
       "      <th>0</th>\n",
       "      <td>a</td>\n",
       "    </tr>\n",
       "    <tr>\n",
       "      <th>1</th>\n",
       "      <td>b</td>\n",
       "    </tr>\n",
       "    <tr>\n",
       "      <th>2</th>\n",
       "      <td>c</td>\n",
       "    </tr>\n",
       "  </tbody>\n",
       "</table>\n",
       "</div>"
      ],
      "text/plain": [
       "  vals\n",
       "0    a\n",
       "1    b\n",
       "2    c"
      ]
     },
     "execution_count": 23,
     "metadata": {},
     "output_type": "execute_result"
    }
   ],
   "source": [
    "pd.DataFrame(s)"
   ]
  },
  {
   "cell_type": "markdown",
   "id": "d844b684",
   "metadata": {},
   "source": [
    "Converting strings to date"
   ]
  },
  {
   "cell_type": "code",
   "execution_count": 24,
   "id": "c48d2e83",
   "metadata": {},
   "outputs": [],
   "source": [
    "from datetime import datetime"
   ]
  },
  {
   "cell_type": "code",
   "execution_count": 25,
   "id": "01df9601",
   "metadata": {},
   "outputs": [],
   "source": [
    "str1 = 'Wednesday, July 26, 2021'\n",
    "str2 = '26/7/21'\n",
    "str3 = '26-07-2021'\n",
    "\n",
    "#defining datetimes as objects.\n",
    "dt1 = datetime.strptime(str1,'%A, %B %d, %Y')\n",
    "dt2 = datetime.strptime(str2, '%M/%d/%y')\n",
    "dt3 = datetime.strptime(str3, '%M-%d-%Y')"
   ]
  },
  {
   "cell_type": "code",
   "execution_count": 26,
   "id": "d8909da5",
   "metadata": {},
   "outputs": [
    {
     "data": {
      "text/plain": [
       "datetime.datetime(2021, 1, 7, 0, 26)"
      ]
     },
     "execution_count": 26,
     "metadata": {},
     "output_type": "execute_result"
    }
   ],
   "source": [
    "dt3"
   ]
  },
  {
   "cell_type": "markdown",
   "id": "55a61334",
   "metadata": {},
   "source": [
    "Replacing missing values in pandas dataframe."
   ]
  },
  {
   "cell_type": "code",
   "execution_count": 27,
   "id": "d2ab40b6",
   "metadata": {},
   "outputs": [
    {
     "data": {
      "text/html": [
       "<div>\n",
       "<style scoped>\n",
       "    .dataframe tbody tr th:only-of-type {\n",
       "        vertical-align: middle;\n",
       "    }\n",
       "\n",
       "    .dataframe tbody tr th {\n",
       "        vertical-align: top;\n",
       "    }\n",
       "\n",
       "    .dataframe thead th {\n",
       "        text-align: right;\n",
       "    }\n",
       "</style>\n",
       "<table border=\"1\" class=\"dataframe\">\n",
       "  <thead>\n",
       "    <tr style=\"text-align: right;\">\n",
       "      <th>Y</th>\n",
       "      <th>2012-06</th>\n",
       "      <th>2012-07</th>\n",
       "      <th>2012-08</th>\n",
       "    </tr>\n",
       "    <tr>\n",
       "      <th>X</th>\n",
       "      <th></th>\n",
       "      <th></th>\n",
       "      <th></th>\n",
       "    </tr>\n",
       "  </thead>\n",
       "  <tbody>\n",
       "    <tr>\n",
       "      <th>ID1</th>\n",
       "      <td>10239.0</td>\n",
       "      <td>13858.0</td>\n",
       "      <td>14738.0</td>\n",
       "    </tr>\n",
       "    <tr>\n",
       "      <th>ID12</th>\n",
       "      <td>566.0</td>\n",
       "      <td>2360.0</td>\n",
       "      <td>3950.0</td>\n",
       "    </tr>\n",
       "    <tr>\n",
       "      <th>ID16</th>\n",
       "      <td>NaN</td>\n",
       "      <td>NaN</td>\n",
       "      <td>4104.0</td>\n",
       "    </tr>\n",
       "    <tr>\n",
       "      <th>ID6</th>\n",
       "      <td>524.0</td>\n",
       "      <td>2352.0</td>\n",
       "      <td>NaN</td>\n",
       "    </tr>\n",
       "  </tbody>\n",
       "</table>\n",
       "</div>"
      ],
      "text/plain": [
       "Y     2012-06  2012-07  2012-08\n",
       "X                              \n",
       "ID1   10239.0  13858.0  14738.0\n",
       "ID12    566.0   2360.0   3950.0\n",
       "ID16      NaN      NaN   4104.0\n",
       "ID6     524.0   2352.0      NaN"
      ]
     },
     "execution_count": 27,
     "metadata": {},
     "output_type": "execute_result"
    }
   ],
   "source": [
    "r"
   ]
  },
  {
   "cell_type": "code",
   "execution_count": 28,
   "id": "0a857587",
   "metadata": {},
   "outputs": [
    {
     "data": {
      "text/html": [
       "<div>\n",
       "<style scoped>\n",
       "    .dataframe tbody tr th:only-of-type {\n",
       "        vertical-align: middle;\n",
       "    }\n",
       "\n",
       "    .dataframe tbody tr th {\n",
       "        vertical-align: top;\n",
       "    }\n",
       "\n",
       "    .dataframe thead th {\n",
       "        text-align: right;\n",
       "    }\n",
       "</style>\n",
       "<table border=\"1\" class=\"dataframe\">\n",
       "  <thead>\n",
       "    <tr style=\"text-align: right;\">\n",
       "      <th>Y</th>\n",
       "      <th>2012-06</th>\n",
       "      <th>2012-07</th>\n",
       "      <th>2012-08</th>\n",
       "    </tr>\n",
       "    <tr>\n",
       "      <th>X</th>\n",
       "      <th></th>\n",
       "      <th></th>\n",
       "      <th></th>\n",
       "    </tr>\n",
       "  </thead>\n",
       "  <tbody>\n",
       "    <tr>\n",
       "      <th>ID1</th>\n",
       "      <td>10239.0</td>\n",
       "      <td>13858.0</td>\n",
       "      <td>14738.0</td>\n",
       "    </tr>\n",
       "    <tr>\n",
       "      <th>ID12</th>\n",
       "      <td>566.0</td>\n",
       "      <td>2360.0</td>\n",
       "      <td>3950.0</td>\n",
       "    </tr>\n",
       "    <tr>\n",
       "      <th>ID16</th>\n",
       "      <td>4104.0</td>\n",
       "      <td>4104.0</td>\n",
       "      <td>4104.0</td>\n",
       "    </tr>\n",
       "    <tr>\n",
       "      <th>ID6</th>\n",
       "      <td>524.0</td>\n",
       "      <td>2352.0</td>\n",
       "      <td>1438.0</td>\n",
       "    </tr>\n",
       "  </tbody>\n",
       "</table>\n",
       "</div>"
      ],
      "text/plain": [
       "Y     2012-06  2012-07  2012-08\n",
       "X                              \n",
       "ID1   10239.0  13858.0  14738.0\n",
       "ID12    566.0   2360.0   3950.0\n",
       "ID16   4104.0   4104.0   4104.0\n",
       "ID6     524.0   2352.0   1438.0"
      ]
     },
     "execution_count": 28,
     "metadata": {},
     "output_type": "execute_result"
    }
   ],
   "source": [
    "r.apply(lambda x: x.fillna(x.mean()), axis =1)"
   ]
  },
  {
   "cell_type": "markdown",
   "id": "0090664b",
   "metadata": {},
   "source": [
    "###### Concat function"
   ]
  },
  {
   "cell_type": "code",
   "execution_count": 29,
   "id": "655e8dd2",
   "metadata": {},
   "outputs": [
    {
     "data": {
      "text/html": [
       "<div>\n",
       "<style scoped>\n",
       "    .dataframe tbody tr th:only-of-type {\n",
       "        vertical-align: middle;\n",
       "    }\n",
       "\n",
       "    .dataframe tbody tr th {\n",
       "        vertical-align: top;\n",
       "    }\n",
       "\n",
       "    .dataframe thead th {\n",
       "        text-align: right;\n",
       "    }\n",
       "</style>\n",
       "<table border=\"1\" class=\"dataframe\">\n",
       "  <thead>\n",
       "    <tr style=\"text-align: right;\">\n",
       "      <th></th>\n",
       "      <th>s1</th>\n",
       "      <th>s2</th>\n",
       "    </tr>\n",
       "  </thead>\n",
       "  <tbody>\n",
       "    <tr>\n",
       "      <th>A</th>\n",
       "      <td>1</td>\n",
       "      <td>3</td>\n",
       "    </tr>\n",
       "    <tr>\n",
       "      <th>B</th>\n",
       "      <td>2</td>\n",
       "      <td>4</td>\n",
       "    </tr>\n",
       "  </tbody>\n",
       "</table>\n",
       "</div>"
      ],
      "text/plain": [
       "   s1  s2\n",
       "A   1   3\n",
       "B   2   4"
      ]
     },
     "execution_count": 29,
     "metadata": {},
     "output_type": "execute_result"
    }
   ],
   "source": [
    "s1 = pd.Series([1,2], index=['A','B'], name = 's1')\n",
    "s2 = pd.Series([3,4], index = ['A', 'B'], name = 's2')\n",
    "\n",
    "pd.concat([s1,s2], axis =1)"
   ]
  },
  {
   "cell_type": "code",
   "execution_count": 30,
   "id": "47636dc7",
   "metadata": {},
   "outputs": [
    {
     "data": {
      "text/html": [
       "<div>\n",
       "<style scoped>\n",
       "    .dataframe tbody tr th:only-of-type {\n",
       "        vertical-align: middle;\n",
       "    }\n",
       "\n",
       "    .dataframe tbody tr th {\n",
       "        vertical-align: top;\n",
       "    }\n",
       "\n",
       "    .dataframe thead th {\n",
       "        text-align: right;\n",
       "    }\n",
       "</style>\n",
       "<table border=\"1\" class=\"dataframe\">\n",
       "  <thead>\n",
       "    <tr style=\"text-align: right;\">\n",
       "      <th></th>\n",
       "      <th>index</th>\n",
       "      <th>s1</th>\n",
       "      <th>s2</th>\n",
       "    </tr>\n",
       "  </thead>\n",
       "  <tbody>\n",
       "    <tr>\n",
       "      <th>0</th>\n",
       "      <td>A</td>\n",
       "      <td>1</td>\n",
       "      <td>3</td>\n",
       "    </tr>\n",
       "    <tr>\n",
       "      <th>1</th>\n",
       "      <td>B</td>\n",
       "      <td>2</td>\n",
       "      <td>4</td>\n",
       "    </tr>\n",
       "  </tbody>\n",
       "</table>\n",
       "</div>"
      ],
      "text/plain": [
       "  index  s1  s2\n",
       "0     A   1   3\n",
       "1     B   2   4"
      ]
     },
     "execution_count": 30,
     "metadata": {},
     "output_type": "execute_result"
    }
   ],
   "source": [
    "pd.concat([s1,s2], axis =1).reset_index()"
   ]
  },
  {
   "cell_type": "code",
   "execution_count": null,
   "id": "cd12f563",
   "metadata": {},
   "outputs": [],
   "source": []
  }
 ],
 "metadata": {
  "kernelspec": {
   "display_name": "Python 3",
   "language": "python",
   "name": "python3"
  }
 },
 "nbformat": 4,
 "nbformat_minor": 5
}
