{
 "cells": [
  {
   "cell_type": "markdown",
   "id": "f39d9299",
   "metadata": {},
   "source": [
    "# Python Lists"
   ]
  },
  {
   "cell_type": "markdown",
   "id": "16c69300",
   "metadata": {},
   "source": [
    "###### Lists are used to store multiple items in a single variable.\n",
    "\n",
    "###### Lists are one of 4 built-in data types in Python used to store collections of data, the other 3 are Tuple, Set, and Dictionary, all with different qualities and usage.\n",
    "\n",
    "###### Lists are created using square brackets. It is also possible to use the list() constructor when creating a new list.\n",
    "\n",
    "##### List is a collection which is ordered and changeable. Allows duplicate members.\n",
    "        Ordered:    means that the items have a defined order, and that order will not change.\n",
    "        \n",
    "        Changeable: meaning that we can change, add, and remove items in a list after it has been created"
   ]
  },
  {
   "cell_type": "code",
   "execution_count": 1,
   "id": "debd93b5",
   "metadata": {},
   "outputs": [],
   "source": [
    "#creating a list\n",
    "NE = [\"Arunachal Pradesh\", \"Assam\", \"Manipur\", \"Meghalaya\", \"Mizoram\", \"Nagaland\", \"Sikkim\", \"Tripura\"]"
   ]
  },
  {
   "cell_type": "code",
   "execution_count": 2,
   "id": "114960c3",
   "metadata": {},
   "outputs": [
    {
     "name": "stdout",
     "output_type": "stream",
     "text": [
      "\n",
      " Their are total of 8 States in North East India, And the states are: \n",
      " ['Arunachal Pradesh', 'Assam', 'Manipur', 'Meghalaya', 'Mizoram', 'Nagaland', 'Sikkim', 'Tripura']\n"
     ]
    }
   ],
   "source": [
    "#getting the length of list\n",
    "print(\"\\n Their are total of\", len(NE) ,\"States in North East India, And the states are: \\n\", NE)"
   ]
  },
  {
   "cell_type": "code",
   "execution_count": 3,
   "id": "31a19b44",
   "metadata": {},
   "outputs": [
    {
     "data": {
      "text/plain": [
       "'Arunachal Pradesh'"
      ]
     },
     "execution_count": 3,
     "metadata": {},
     "output_type": "execute_result"
    }
   ],
   "source": [
    "#indexed\n",
    "NE[0]"
   ]
  },
  {
   "cell_type": "code",
   "execution_count": 4,
   "id": "aa52478a",
   "metadata": {},
   "outputs": [
    {
     "data": {
      "text/plain": [
       "'Tripura'"
      ]
     },
     "execution_count": 4,
     "metadata": {},
     "output_type": "execute_result"
    }
   ],
   "source": [
    "#negative indexing\n",
    "NE[-1]"
   ]
  },
  {
   "cell_type": "code",
   "execution_count": 5,
   "id": "3ea0403e",
   "metadata": {},
   "outputs": [
    {
     "data": {
      "text/plain": [
       "['Mizoram', 'Nagaland', 'Sikkim']"
      ]
     },
     "execution_count": 5,
     "metadata": {},
     "output_type": "execute_result"
    }
   ],
   "source": [
    "NE[-4:-1]"
   ]
  },
  {
   "cell_type": "code",
   "execution_count": 6,
   "id": "45952257",
   "metadata": {},
   "outputs": [
    {
     "name": "stdout",
     "output_type": "stream",
     "text": [
      "Yes, 'ASSAM' is in the NE list\n"
     ]
    }
   ],
   "source": [
    "#Checking if an item exist in list: \n",
    "#looped within list\n",
    "\n",
    "if \"Assam\" in NE:\n",
    "    print(\"Yes, 'ASSAM' is in the NE list\")"
   ]
  },
  {
   "cell_type": "code",
   "execution_count": 7,
   "id": "a016850c",
   "metadata": {},
   "outputs": [
    {
     "data": {
      "text/plain": [
       "['Arunachal Pradesh',\n",
       " 'Assam',\n",
       " 'MANURANJAN',\n",
       " 'Meghalaya',\n",
       " 'Mizoram',\n",
       " 'Nagaland',\n",
       " 'Sikkim',\n",
       " 'Tripura']"
      ]
     },
     "execution_count": 7,
     "metadata": {},
     "output_type": "execute_result"
    }
   ],
   "source": [
    "#replacing the value\n",
    "NE[2]= \"MANURANJAN\"\n",
    "NE\n",
    "\n",
    "#inserting range of item values\n",
    "#NE[3:5] = [\"Nice\", \"Good\"]"
   ]
  },
  {
   "cell_type": "code",
   "execution_count": 8,
   "id": "b8fc1bc8",
   "metadata": {},
   "outputs": [
    {
     "data": {
      "text/plain": [
       "['Removing the first',\n",
       " 'Arunachal Pradesh',\n",
       " 'Assam',\n",
       " 'MANURANJAN',\n",
       " 'Meghalaya',\n",
       " 'Mizoram',\n",
       " 'Nagaland',\n",
       " 'Sikkim',\n",
       " 'Tripura']"
      ]
     },
     "execution_count": 8,
     "metadata": {},
     "output_type": "execute_result"
    }
   ],
   "source": [
    "#using keyword to insert and item in list\n",
    "NE.insert(0, \"Removing the first\")\n",
    "NE"
   ]
  },
  {
   "cell_type": "code",
   "execution_count": 9,
   "id": "3d3795e5",
   "metadata": {},
   "outputs": [
    {
     "data": {
      "text/plain": [
       "['Removing the first',\n",
       " 'Arunachal Pradesh',\n",
       " 'Assam',\n",
       " 'MANURANJAN',\n",
       " 'Meghalaya',\n",
       " 'Mizoram',\n",
       " 'Nagaland',\n",
       " 'Sikkim',\n",
       " 'Tripura']"
      ]
     },
     "execution_count": 9,
     "metadata": {},
     "output_type": "execute_result"
    }
   ],
   "source": [
    "NE"
   ]
  },
  {
   "cell_type": "code",
   "execution_count": 10,
   "id": "a0066de5",
   "metadata": {},
   "outputs": [
    {
     "data": {
      "text/plain": [
       "['Removing the first',\n",
       " 'Arunachal Pradesh',\n",
       " 'Assam',\n",
       " 'MANURANJAN',\n",
       " 'Meghalaya',\n",
       " 'Mizoram',\n",
       " 'Nagaland',\n",
       " 'Sikkim',\n",
       " 'Tripura',\n",
       " 'Manipur']"
      ]
     },
     "execution_count": 10,
     "metadata": {},
     "output_type": "execute_result"
    }
   ],
   "source": [
    "#adding an item in the list\n",
    "NE.append(\"Manipur\")\n",
    "NE"
   ]
  },
  {
   "cell_type": "code",
   "execution_count": 11,
   "id": "f000b299",
   "metadata": {},
   "outputs": [
    {
     "data": {
      "text/plain": [
       "['Removing the first',\n",
       " 'Arunachal Pradesh',\n",
       " 'Assam',\n",
       " 'Meghalaya',\n",
       " 'Mizoram',\n",
       " 'Nagaland',\n",
       " 'Sikkim',\n",
       " 'Tripura',\n",
       " 'Manipur']"
      ]
     },
     "execution_count": 11,
     "metadata": {},
     "output_type": "execute_result"
    }
   ],
   "source": [
    "#removing item in list\n",
    "NE.remove(\"MANURANJAN\")\n",
    "NE"
   ]
  },
  {
   "cell_type": "code",
   "execution_count": 12,
   "id": "56209cd0",
   "metadata": {},
   "outputs": [
    {
     "data": {
      "text/plain": [
       "['Arunachal Pradesh',\n",
       " 'Assam',\n",
       " 'Meghalaya',\n",
       " 'Mizoram',\n",
       " 'Nagaland',\n",
       " 'Sikkim',\n",
       " 'Tripura',\n",
       " 'Manipur']"
      ]
     },
     "execution_count": 12,
     "metadata": {},
     "output_type": "execute_result"
    }
   ],
   "source": [
    "#dropping specific indexed value\n",
    "NE.pop(0)\n",
    "NE"
   ]
  },
  {
   "cell_type": "code",
   "execution_count": 13,
   "id": "b76543f3",
   "metadata": {},
   "outputs": [
    {
     "data": {
      "text/plain": [
       "['a', 'b', 'c', 1, 2, 3]"
      ]
     },
     "execution_count": 13,
     "metadata": {},
     "output_type": "execute_result"
    }
   ],
   "source": [
    "list1 = [\"a\", \"b\", \"c\"]\n",
    "list2 = [1, 2, 3]\n",
    "\n",
    "list3 = list1 + list2\n",
    "list3"
   ]
  },
  {
   "cell_type": "code",
   "execution_count": 14,
   "id": "269674d5",
   "metadata": {},
   "outputs": [
    {
     "data": {
      "text/plain": [
       "['a', 'b', 'c', 1, 2, 3, 'x', 'y', 'z']"
      ]
     },
     "execution_count": 14,
     "metadata": {},
     "output_type": "execute_result"
    }
   ],
   "source": [
    "list4 = ['x','y','z']\n",
    "\n",
    "list3.extend(list4)\n",
    "list3"
   ]
  },
  {
   "cell_type": "code",
   "execution_count": 15,
   "id": "657060d3",
   "metadata": {},
   "outputs": [
    {
     "data": {
      "text/plain": [
       "['z', 'y', 'x', 3, 2, 1, 'c', 'b', 'a']"
      ]
     },
     "execution_count": 15,
     "metadata": {},
     "output_type": "execute_result"
    }
   ],
   "source": [
    "#methods\n",
    "list3.reverse()\n",
    "list3"
   ]
  },
  {
   "cell_type": "markdown",
   "id": "c78ce97c",
   "metadata": {},
   "source": [
    "# Python Tuples\n",
    "\n",
    "##### A tuple is a collection which is ordered and unchangeable i.e. immutable\n",
    "\n",
    "##### A tuple can contain different data types. Allow dublicates\n",
    "\n",
    "##### Tuples are written with round brackets. it is also possible to use tuple() constructor to make a tuple.\n",
    "\n",
    "     Unchangeable: meaning that we cannot change, add or remove items after the tuple has been created."
   ]
  },
  {
   "cell_type": "code",
   "execution_count": 16,
   "id": "f57d3729",
   "metadata": {},
   "outputs": [
    {
     "data": {
      "text/plain": [
       "('Apple', 'Banana', 'Mango')"
      ]
     },
     "execution_count": 16,
     "metadata": {},
     "output_type": "execute_result"
    }
   ],
   "source": [
    "tuple1 = (\"Apple\", \"Banana\", \"Mango\")\n",
    "tuple1"
   ]
  },
  {
   "cell_type": "code",
   "execution_count": 17,
   "id": "3eea8c58",
   "metadata": {},
   "outputs": [],
   "source": [
    "tuple2 = (\"Manu\", 30, True, 20.20, \"Male\")"
   ]
  },
  {
   "cell_type": "code",
   "execution_count": 18,
   "id": "70fb56f8",
   "metadata": {},
   "outputs": [
    {
     "data": {
      "text/plain": [
       "('Apple', 'Banana', 'Mango', 'Manu', 30, True, 20.2, 'Male')"
      ]
     },
     "execution_count": 18,
     "metadata": {},
     "output_type": "execute_result"
    }
   ],
   "source": [
    "#adding tuples\n",
    "tuple1 + tuple2"
   ]
  },
  {
   "cell_type": "markdown",
   "id": "08e856e0",
   "metadata": {},
   "source": [
    "Any changes to add/removing items.\n",
    "Workaround:\n",
    "    Convert to list and then do add/remove\n",
    "    Convert back to tuple"
   ]
  },
  {
   "cell_type": "code",
   "execution_count": 19,
   "id": "464d06ee",
   "metadata": {},
   "outputs": [],
   "source": [
    "#deleting the tuple completely\n",
    "del tuple1"
   ]
  },
  {
   "cell_type": "code",
   "execution_count": 20,
   "id": "0662c3d9",
   "metadata": {},
   "outputs": [
    {
     "name": "stdout",
     "output_type": "stream",
     "text": [
      "Manu\n",
      "30\n",
      "True\n",
      "20.2\n",
      "Male\n"
     ]
    }
   ],
   "source": [
    "#looping in tuple\n",
    "tuple2 = (\"Manu\", 30, True, 20.20, \"Male\")\n",
    "for x in tuple2:\n",
    "    print(x)"
   ]
  },
  {
   "cell_type": "markdown",
   "id": "9ca2cf91",
   "metadata": {},
   "source": [
    "# Python Sets\n",
    "\n",
    "##### A set is a collection which is unordered, unindexed, and do not allow duplicates.\n",
    "\n",
    "##### A set can contain different data types.\n",
    "\n",
    "##### Once a set is created, we cannot change its items, but you can remove items and add new items."
   ]
  },
  {
   "cell_type": "code",
   "execution_count": 21,
   "id": "a115611f",
   "metadata": {},
   "outputs": [],
   "source": [
    "set1 = {\"Cow\", \"Goat\", \"Horse\"}"
   ]
  },
  {
   "cell_type": "code",
   "execution_count": 22,
   "id": "403f9e03",
   "metadata": {},
   "outputs": [
    {
     "name": "stdout",
     "output_type": "stream",
     "text": [
      "Cow\n",
      "Horse\n",
      "Goat\n"
     ]
    }
   ],
   "source": [
    "#looping\n",
    "for item in set1:\n",
    "    print(item)"
   ]
  },
  {
   "cell_type": "code",
   "execution_count": 23,
   "id": "943c1b71",
   "metadata": {},
   "outputs": [
    {
     "name": "stdout",
     "output_type": "stream",
     "text": [
      "True\n"
     ]
    }
   ],
   "source": [
    "#checking item in set\n",
    "print(\"Cow\" in set1)"
   ]
  },
  {
   "cell_type": "code",
   "execution_count": 24,
   "id": "e74a2b41",
   "metadata": {},
   "outputs": [
    {
     "data": {
      "text/plain": [
       "{'Cow', 'Goat', 'Horse', 'dog'}"
      ]
     },
     "execution_count": 24,
     "metadata": {},
     "output_type": "execute_result"
    }
   ],
   "source": [
    "set1.add(\"dog\")\n",
    "set1"
   ]
  },
  {
   "cell_type": "code",
   "execution_count": 25,
   "id": "9485363a",
   "metadata": {},
   "outputs": [],
   "source": [
    "set2 = {\"Duck\", \"Hen\"}"
   ]
  },
  {
   "cell_type": "code",
   "execution_count": 26,
   "id": "b92a6772",
   "metadata": {},
   "outputs": [
    {
     "data": {
      "text/plain": [
       "{'Cow', 'Duck', 'Goat', 'Hen', 'Horse', 'dog'}"
      ]
     },
     "execution_count": 26,
     "metadata": {},
     "output_type": "execute_result"
    }
   ],
   "source": [
    "#Adding Sets\n",
    "set1.update(set2)\n",
    "set1"
   ]
  },
  {
   "cell_type": "code",
   "execution_count": 27,
   "id": "587af796",
   "metadata": {},
   "outputs": [],
   "source": [
    "#we can add any iterable\n",
    "mylist = ['Rhino', 'Elephant']"
   ]
  },
  {
   "cell_type": "code",
   "execution_count": 28,
   "id": "5a123d28",
   "metadata": {},
   "outputs": [
    {
     "data": {
      "text/plain": [
       "{'Cow', 'Duck', 'Elephant', 'Goat', 'Hen', 'Horse', 'Rhino', 'dog'}"
      ]
     },
     "execution_count": 28,
     "metadata": {},
     "output_type": "execute_result"
    }
   ],
   "source": [
    "set1.update(mylist)\n",
    "set1"
   ]
  },
  {
   "cell_type": "code",
   "execution_count": 29,
   "id": "3c8ff5c9",
   "metadata": {},
   "outputs": [
    {
     "data": {
      "text/plain": [
       "{'Cow', 'Duck', 'Elephant', 'Goat', 'Hen', 'Horse', 'Rhino', 'dog'}"
      ]
     },
     "execution_count": 29,
     "metadata": {},
     "output_type": "execute_result"
    }
   ],
   "source": [
    "#joining set\n",
    "set3 = set1.union(set2)\n",
    "set3"
   ]
  },
  {
   "cell_type": "markdown",
   "id": "aa6fce9f",
   "metadata": {},
   "source": [
    "# Python Dictionaries\n",
    "\n",
    "##### Dictionaries are used to store data values in key:value pairs.\n",
    "\n",
    "##### A dictionary is a collection which is changeable and do not allow duplicates.\n",
    "\n",
    "##### Dictionaries are changeable, i.e. we can add or remove items after the dictionary has been created."
   ]
  },
  {
   "cell_type": "code",
   "execution_count": 30,
   "id": "2ca35262",
   "metadata": {},
   "outputs": [],
   "source": [
    "dict1 = {\n",
    "  \"brand\": \"Ford\",\n",
    "  \"model\": \"Mustang\",\n",
    "  \"year\": 1964\n",
    "}"
   ]
  },
  {
   "cell_type": "code",
   "execution_count": 31,
   "id": "75f9c825",
   "metadata": {},
   "outputs": [
    {
     "name": "stdout",
     "output_type": "stream",
     "text": [
      "{'brand': 'Ford', 'model': 'Mustang', 'year': 2022}\n"
     ]
    }
   ],
   "source": [
    "# Dictionaries cannot have two items with the same key.\n",
    "# Duplicate values will overwrite existing values.\n",
    "\n",
    "dict2 = {\n",
    "  \"brand\": \"Ford\",\n",
    "  \"model\": \"Mustang\",\n",
    "  \"year\": 1964,\n",
    "  \"year\": 2022\n",
    "}\n",
    "print(dict2)"
   ]
  },
  {
   "cell_type": "code",
   "execution_count": 32,
   "id": "40c9c1d6",
   "metadata": {},
   "outputs": [
    {
     "data": {
      "text/plain": [
       "'Ford'"
      ]
     },
     "execution_count": 32,
     "metadata": {},
     "output_type": "execute_result"
    }
   ],
   "source": [
    "# We can access the items of a dictionary by referring to its key name.\n",
    "dict2.get(\"brand\")"
   ]
  },
  {
   "cell_type": "code",
   "execution_count": 33,
   "id": "ade408a1",
   "metadata": {},
   "outputs": [
    {
     "data": {
      "text/plain": [
       "dict_keys(['brand', 'model', 'year'])"
      ]
     },
     "execution_count": 33,
     "metadata": {},
     "output_type": "execute_result"
    }
   ],
   "source": [
    "#Getting the keys\n",
    "dict2.keys()"
   ]
  },
  {
   "cell_type": "code",
   "execution_count": 34,
   "id": "938ca846",
   "metadata": {},
   "outputs": [
    {
     "data": {
      "text/plain": [
       "dict_values(['Ford', 'Mustang', 2022])"
      ]
     },
     "execution_count": 34,
     "metadata": {},
     "output_type": "execute_result"
    }
   ],
   "source": [
    "#Getting the Values\n",
    "dict2.values()"
   ]
  },
  {
   "cell_type": "code",
   "execution_count": 35,
   "id": "70759fa5",
   "metadata": {},
   "outputs": [
    {
     "data": {
      "text/plain": [
       "{'brand': 'Ford', 'model': 'Mustang', 'year': 2022, 'Color': 'white'}"
      ]
     },
     "execution_count": 35,
     "metadata": {},
     "output_type": "execute_result"
    }
   ],
   "source": [
    "#adding a new key pair values\n",
    "dict2[\"Color\"] = \"white\"\n",
    "dict2"
   ]
  },
  {
   "cell_type": "code",
   "execution_count": 36,
   "id": "c43be00b",
   "metadata": {},
   "outputs": [
    {
     "name": "stdout",
     "output_type": "stream",
     "text": [
      "brand Ford\n",
      "model Mustang\n",
      "year 2022\n",
      "Color white\n"
     ]
    }
   ],
   "source": [
    "#Loop through both keys and values\n",
    "for x, y in dict2.items():\n",
    "  print(x, y)"
   ]
  },
  {
   "cell_type": "code",
   "execution_count": 37,
   "id": "a56d7e66",
   "metadata": {},
   "outputs": [],
   "source": [
    "#Nested Dictionaries\n",
    "#Dictionary that contains dictionaries\n",
    "\n",
    "myname = {\n",
    "  \"First\" : {\n",
    "    \"name\" : \"Manu\",\n",
    "    \"year\" : 2014\n",
    "  },\n",
    "  \"Middle\" : {\n",
    "    \"name\" : \"Ranjan\",\n",
    "    \"year\" : 2017\n",
    "  },\n",
    "  \"Last\" : {\n",
    "    \"name\" : \"Gogoi\",\n",
    "    \"year\" : 2022\n",
    "  }\n",
    "}"
   ]
  },
  {
   "cell_type": "code",
   "execution_count": 38,
   "id": "3d66cbab",
   "metadata": {},
   "outputs": [
    {
     "data": {
      "text/plain": [
       "{'First': {'name': 'Manu', 'year': 2014},\n",
       " 'Middle': {'name': 'Ranjan', 'year': 2017},\n",
       " 'Last': {'name': 'Gogoi', 'year': 2022}}"
      ]
     },
     "execution_count": 38,
     "metadata": {},
     "output_type": "execute_result"
    }
   ],
   "source": [
    "myname"
   ]
  },
  {
   "cell_type": "code",
   "execution_count": null,
   "id": "2da839ae",
   "metadata": {},
   "outputs": [],
   "source": []
  }
 ],
 "metadata": {
  "kernelspec": {
   "display_name": "Python 3 (ipykernel)",
   "language": "python",
   "name": "python3"
  },
  "language_info": {
   "codemirror_mode": {
    "name": "ipython",
    "version": 3
   },
   "file_extension": ".py",
   "mimetype": "text/x-python",
   "name": "python",
   "nbconvert_exporter": "python",
   "pygments_lexer": "ipython3",
   "version": "3.9.7"
  }
 },
 "nbformat": 4,
 "nbformat_minor": 5
}
