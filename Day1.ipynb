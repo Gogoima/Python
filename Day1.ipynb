{
 "cells": [
  {
   "cell_type": "code",
   "execution_count": 1,
   "id": "c5fb4eb5",
   "metadata": {},
   "outputs": [
    {
     "name": "stdout",
     "output_type": "stream",
     "text": [
      "Python 3.9.7\n"
     ]
    }
   ],
   "source": [
    "#checking python version\n",
    "!python --version"
   ]
  },
  {
   "cell_type": "markdown",
   "id": "2ca8ca36",
   "metadata": {},
   "source": [
    "### Python Identation "
   ]
  },
  {
   "cell_type": "markdown",
   "id": "0c4170ce",
   "metadata": {},
   "source": [
    "Where in other programming languages the indentation in code is for readability only,\n",
    "the indentation in Python is very important."
   ]
  },
  {
   "cell_type": "code",
   "execution_count": 2,
   "id": "3f39c9f6",
   "metadata": {},
   "outputs": [
    {
     "name": "stdout",
     "output_type": "stream",
     "text": [
      "10 is greater than 2!\n"
     ]
    }
   ],
   "source": [
    "#example:\n",
    "#This is a comment.\n",
    "\n",
    "if 10 > 2:\n",
    "    print(\"10 is greater than 2!\")"
   ]
  },
  {
   "cell_type": "raw",
   "id": "2a2a0266",
   "metadata": {},
   "source": [
    "* Python Variables : x = 8\n",
    "* Variable Names   : Same as standard naming."
   ]
  },
  {
   "cell_type": "code",
   "execution_count": 3,
   "id": "3c131858",
   "metadata": {},
   "outputs": [
    {
     "name": "stdout",
     "output_type": "stream",
     "text": [
      "Manu\n",
      "Ranjan\n",
      "Gogoi\n"
     ]
    },
    {
     "data": {
      "text/plain": [
       "('Manu', 'Ranjan', 'Gogoi')"
      ]
     },
     "execution_count": 3,
     "metadata": {},
     "output_type": "execute_result"
    }
   ],
   "source": [
    "# assigning many values to a multiple variables.\n",
    "\n",
    "x, y, z = \"Manu\", \"Ranjan\", \"Gogoi\"\n",
    "\n",
    "print(x)\n",
    "print(y)\n",
    "print(z)\n",
    "\n",
    "x,y,z"
   ]
  },
  {
   "cell_type": "markdown",
   "id": "c6960474",
   "metadata": {},
   "source": [
    "### Python Data Types"
   ]
  },
  {
   "cell_type": "markdown",
   "id": "f7616464",
   "metadata": {},
   "source": [
    "###### Built-in Data Types"
   ]
  },
  {
   "cell_type": "raw",
   "id": "081a4097",
   "metadata": {},
   "source": [
    "Text Type:\tstr\n",
    "Numeric Types:\tint, float, complex\n",
    "Sequence Types:\tlist, tuple, range\n",
    "Mapping Type:\tdict\n",
    "Set Types:\tset, frozenset\n",
    "Boolean Type:\tbool\n",
    "None Type:\tNoneType"
   ]
  },
  {
   "cell_type": "code",
   "execution_count": 4,
   "id": "b4c97c9b",
   "metadata": {},
   "outputs": [
    {
     "data": {
      "text/plain": [
       "str"
      ]
     },
     "execution_count": 4,
     "metadata": {},
     "output_type": "execute_result"
    }
   ],
   "source": [
    "#we can get the type of any object'\n",
    "\n",
    "type(x)\n",
    "\n",
    "#type(7)"
   ]
  },
  {
   "cell_type": "markdown",
   "id": "66ead9b4",
   "metadata": {},
   "source": [
    "### Python strings"
   ]
  },
  {
   "cell_type": "code",
   "execution_count": 5,
   "id": "617ed692",
   "metadata": {},
   "outputs": [
    {
     "name": "stdout",
     "output_type": "stream",
     "text": [
      "The mind is its own place, and in itself\n",
      " Can make a heaven of Hell, a hell of Heaven\n"
     ]
    }
   ],
   "source": [
    "string = \"\"\"The mind is its own place, and in itself\n",
    " Can make a heaven of Hell, a hell of Heaven\"\"\"\n",
    "\n",
    "print(string)"
   ]
  },
  {
   "cell_type": "code",
   "execution_count": 6,
   "id": "2a06ffb5",
   "metadata": {},
   "outputs": [],
   "source": [
    " line = \"Live in Day-tight Compartments\""
   ]
  },
  {
   "cell_type": "code",
   "execution_count": 7,
   "id": "29a83286",
   "metadata": {},
   "outputs": [
    {
     "data": {
      "text/plain": [
       "'e in Day'"
      ]
     },
     "execution_count": 7,
     "metadata": {},
     "output_type": "execute_result"
    }
   ],
   "source": [
    "#slicing   #count always start with 0 and not 1. \n",
    "\n",
    "line[3:11]      # Getting the character from position 3 to 10."
   ]
  },
  {
   "cell_type": "code",
   "execution_count": 8,
   "id": "4725feee",
   "metadata": {},
   "outputs": [
    {
     "data": {
      "text/plain": [
       "'ments'"
      ]
     },
     "execution_count": 8,
     "metadata": {},
     "output_type": "execute_result"
    }
   ],
   "source": [
    "#negative slicing \n",
    "#getting the last 5\n",
    "line[-5:]"
   ]
  },
  {
   "cell_type": "code",
   "execution_count": 9,
   "id": "d21e0e39",
   "metadata": {},
   "outputs": [
    {
     "data": {
      "text/plain": [
       "'LIVE IN DAY-TIGHT COMPARTMENTS'"
      ]
     },
     "execution_count": 9,
     "metadata": {},
     "output_type": "execute_result"
    }
   ],
   "source": [
    "line.lower()\n",
    "\n",
    "line.upper()"
   ]
  },
  {
   "cell_type": "code",
   "execution_count": 10,
   "id": "76f90761",
   "metadata": {},
   "outputs": [
    {
     "data": {
      "text/plain": [
       "['Live', 'in', 'Day-tight', 'Compartments']"
      ]
     },
     "execution_count": 10,
     "metadata": {},
     "output_type": "execute_result"
    }
   ],
   "source": [
    "line.split()"
   ]
  },
  {
   "cell_type": "code",
   "execution_count": 11,
   "id": "52f4d9ff",
   "metadata": {},
   "outputs": [
    {
     "data": {
      "text/plain": [
       "'Manu Ranjan Gogoi'"
      ]
     },
     "execution_count": 11,
     "metadata": {},
     "output_type": "execute_result"
    }
   ],
   "source": [
    "#Concatenation\n",
    "x, y, z = \"Manu\", \"Ranjan\", \"Gogoi\"\n",
    "\n",
    "x + \" \" + y + \" \" + z"
   ]
  },
  {
   "cell_type": "code",
   "execution_count": 12,
   "id": "c8a16c3b",
   "metadata": {},
   "outputs": [
    {
     "data": {
      "text/plain": [
       "(1+0j)"
      ]
     },
     "execution_count": 12,
     "metadata": {},
     "output_type": "execute_result"
    }
   ],
   "source": [
    "# complex number. a +ib\n",
    "\n",
    "complex(1)"
   ]
  }
 ],
 "metadata": {
  "kernelspec": {
   "display_name": "Python 3 (ipykernel)",
   "language": "python",
   "name": "python3"
  },
  "language_info": {
   "codemirror_mode": {
    "name": "ipython",
    "version": 3
   },
   "file_extension": ".py",
   "mimetype": "text/x-python",
   "name": "python",
   "nbconvert_exporter": "python",
   "pygments_lexer": "ipython3",
   "version": "3.9.7"
  }
 },
 "nbformat": 4,
 "nbformat_minor": 5
}
