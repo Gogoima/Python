{
 "cells": [
  {
   "cell_type": "markdown",
   "metadata": {},
   "source": [
    "#### Ref: \n",
    "\n",
    "https://www.hackerearth.com/practice/python/object-oriented-programming/classes-and-objects-i/tutorial/\n",
    "https://www.w3schools.com/python/python_classes.asp\n",
    "https://www.geeksforgeeks.org/python-classes-and-objects\n",
    "https://docs.python.org/3/tutorial/classes.html"
   ]
  },
  {
   "cell_type": "markdown",
   "metadata": {},
   "source": [
    "Class is a code templete for creating objects. Objects have member variables and have behaviour associated with them."
   ]
  },
  {
   "cell_type": "markdown",
   "metadata": {},
   "source": [
    "An object is created using the constructor of the class. This object will then be called the instance of the class."
   ]
  },
  {
   "cell_type": "code",
   "execution_count": 15,
   "metadata": {
    "collapsed": false
   },
   "outputs": [],
   "source": [
    "class ClassName:\n",
    "    \n",
    "    #Statement 1,\n",
    "    #.\n",
    "    #.\n",
    "    #Statement n\n",
    "    pass"
   ]
  },
  {
   "cell_type": "code",
   "execution_count": 18,
   "metadata": {
    "collapsed": false
   },
   "outputs": [
    {
     "name": "stdout",
     "output_type": "stream",
     "text": [
      "<class '__main__.Snake'>\n"
     ]
    }
   ],
   "source": [
    "class Snake:\n",
    "    pass\n",
    "\n",
    "\n",
    "print(Snake)"
   ]
  },
  {
   "cell_type": "markdown",
   "metadata": {},
   "source": [
    "#### Attributes"
   ]
  },
  {
   "cell_type": "markdown",
   "metadata": {},
   "source": [
    "A class by itself is of no use unless there is some functionality associated with it. Functionalities are defined by setting attributes, which act as containers for data and functions related to those attributes. Those functions are called methods."
   ]
  },
  {
   "cell_type": "code",
   "execution_count": 20,
   "metadata": {
    "collapsed": true
   },
   "outputs": [],
   "source": [
    "class Snake:\n",
    "    name = \"Python\""
   ]
  },
  {
   "cell_type": "code",
   "execution_count": 22,
   "metadata": {
    "collapsed": false
   },
   "outputs": [
    {
     "data": {
      "text/plain": [
       "'Python'"
      ]
     },
     "execution_count": 22,
     "metadata": {},
     "output_type": "execute_result"
    }
   ],
   "source": [
    "snake = Snake() # Instantiating the class Snake and assigning to the variable snake\n",
    "\n",
    "snake.name  #accessing the class attribute \"name\", inside the class Snake"
   ]
  },
  {
   "cell_type": "markdown",
   "metadata": {},
   "source": [
    "#### Methods"
   ]
  },
  {
   "cell_type": "markdown",
   "metadata": {},
   "source": [
    "Once there are attributes that \"belong\" to the class, we can define functions that will access the class attribute. These functions are called methods. \n",
    "\n",
    "When defining a methods, we need to always provide the first argument to the method with a \"self\" keyword."
   ]
  },
  {
   "cell_type": "code",
   "execution_count": 23,
   "metadata": {
    "collapsed": true
   },
   "outputs": [],
   "source": [
    "class Snake:\n",
    "    \n",
    "    name = \"Python\"\n",
    "    \n",
    "    def change_name(self, new_name): # first argument is self\n",
    "        self.name = new_name         # accessing the class attribute with the self keyword"
   ]
  },
  {
   "cell_type": "code",
   "execution_count": 27,
   "metadata": {
    "collapsed": false
   },
   "outputs": [
    {
     "name": "stdout",
     "output_type": "stream",
     "text": [
      "Old name:  Python\n",
      "\n",
      " New name: Anaconda\n"
     ]
    }
   ],
   "source": [
    "# Instantiating the class Snake to the variable and Changing the name with the method 'change_name'\n",
    "\n",
    "snake = Snake()\n",
    "\n",
    "print(\"Old name: \", snake.name)\n",
    "\n",
    "snake.change_name(\"Anaconda\") # Changing the name\n",
    "print(\"\\n New name:\",snake.name)"
   ]
  },
  {
   "cell_type": "markdown",
   "metadata": {},
   "source": [
    "#### Instance attributes and the init method"
   ]
  },
  {
   "cell_type": "markdown",
   "metadata": {},
   "source": [
    "We can also provide the values at the runtime. This is done by defining the attributes inside the 'init' method."
   ]
  },
  {
   "cell_type": "code",
   "execution_count": 28,
   "metadata": {
    "collapsed": true
   },
   "outputs": [],
   "source": [
    "class Snake:\n",
    "    \n",
    "    def __init__(self, name):\n",
    "        self.name = name\n",
    "        \n",
    "    def change_name(self, new_name):\n",
    "        self.name = new_name"
   ]
  },
  {
   "cell_type": "code",
   "execution_count": 29,
   "metadata": {
    "collapsed": false
   },
   "outputs": [
    {
     "name": "stdout",
     "output_type": "stream",
     "text": [
      "Python\n",
      "Anaconda\n"
     ]
    }
   ],
   "source": [
    "#two variable instantiation\n",
    "python = Snake(\"Python\")\n",
    "anaconda = Snake(\"Anaconda\")\n",
    "\n",
    "#printing the variable names\n",
    "print(python.name)\n",
    "print(anaconda.name)"
   ]
  },
  {
   "cell_type": "code",
   "execution_count": null,
   "metadata": {
    "collapsed": true
   },
   "outputs": [],
   "source": []
  }
 ],
 "metadata": {
  "kernelspec": {
   "display_name": "Python 3",
   "language": "python",
   "name": "python3"
  },
  "language_info": {
   "codemirror_mode": {
    "name": "ipython",
    "version": 3
   },
   "file_extension": ".py",
   "mimetype": "text/x-python",
   "name": "python",
   "nbconvert_exporter": "python",
   "pygments_lexer": "ipython3",
   "version": "3.6.0"
  }
 },
 "nbformat": 4,
 "nbformat_minor": 2
}
